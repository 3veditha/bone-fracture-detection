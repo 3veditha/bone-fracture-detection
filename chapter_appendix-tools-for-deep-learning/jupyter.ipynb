{
  "cells": [
    {
      "cell_type": "markdown",
      "metadata": {
        "id": "view-in-github",
        "colab_type": "text"
      },
      "source": [
        "<a href=\"https://colab.research.google.com/github/3veditha/bone-fracture-detection/blob/main/chapter_appendix-tools-for-deep-learning/jupyter.ipynb\" target=\"_parent\"><img src=\"https://colab.research.google.com/assets/colab-badge.svg\" alt=\"Open In Colab\"/></a>"
      ]
    },
    {
      "cell_type": "code",
      "source": [
        "import pandas as pd\n",
        "import numpy as np\n",
        "import matplotlib.pyplot as plt\n",
        "import seaborn as sns\n",
        "from sklearn.model_selection import train_test_split\n",
        "from sklearn.metrics import mean_squared_error\n",
        "from statsmodels.tsa.holtwinters import ExponentialSmoothing\n",
        "import warnings\n",
        "warnings.filterwarnings(\"ignore\")\n"
      ],
      "metadata": {
        "id": "GrfLF23JWQM1"
      },
      "id": "GrfLF23JWQM1",
      "execution_count": 10,
      "outputs": []
    },
    {
      "cell_type": "code",
      "source": [
        "# Load the dataset\n",
        "data = pd.read_csv('/content/forecasting-unit-sales-vit-task-2/sample_submission.csv')\n",
        "data = pd.read_csv('/content/forecasting-unit-sales-vit-task-2/test.csv')\n",
        "\n",
        "\n",
        "\n",
        "# Display the first few rows of the dataset\n",
        "print(data.head())\n",
        "\n",
        "# Display summary statistics of the dataset\n",
        "print(data.describe())\n",
        "\n",
        "# Display the data types of each column\n",
        "print(data.dtypes)\n"
      ],
      "metadata": {
        "id": "gPCGafGMWQPY",
        "outputId": "9edad183-285e-48da-d75c-3d19148c3bf6",
        "colab": {
          "base_uri": "https://localhost:8080/"
        }
      },
      "id": "gPCGafGMWQPY",
      "execution_count": 17,
      "outputs": [
        {
          "output_type": "stream",
          "name": "stdout",
          "text": [
            "                      ID        date     Item Id  \\\n",
            "0  2024-07-01_B09KDR64LT  2024-07-01  B09KDR64LT   \n",
            "1  2024-07-01_B09KDTS4DC  2024-07-01  B09KDTS4DC   \n",
            "2  2024-07-01_B09KDTHJ6V  2024-07-01  B09KDTHJ6V   \n",
            "3  2024-07-01_B09KDQ2BWY  2024-07-01  B09KDQ2BWY   \n",
            "4  2024-07-01_B09KDYY3SB  2024-07-01  B09KDYY3SB   \n",
            "\n",
            "                                           Item Name  ad_spend anarix_id  \\\n",
            "0  NapQueen Elizabeth 10\" Gel Memory Foam Mattres...       NaN  NAPQUEEN   \n",
            "1  NapQueen Elizabeth 8\" Gel Memory Foam Mattress...       NaN  NAPQUEEN   \n",
            "2  NapQueen Elizabeth 12\" Gel Memory Foam Mattres...       NaN  NAPQUEEN   \n",
            "3  NapQueen Elizabeth 12\" Gel Memory Foam Mattres...       NaN  NAPQUEEN   \n",
            "4  NapQueen Elizabeth 10\" Gel Memory Foam Mattres...    101.72  NAPQUEEN   \n",
            "\n",
            "   unit_price  \n",
            "0         0.0  \n",
            "1         0.0  \n",
            "2         0.0  \n",
            "3         0.0  \n",
            "4      1094.5  \n",
            "           ad_spend   unit_price\n",
            "count   1382.000000  2833.000000\n",
            "mean     198.838032    98.725873\n",
            "std      797.354508   383.585307\n",
            "min        0.000000 -1988.180000\n",
            "25%        0.730000     0.000000\n",
            "50%       39.200000     0.000000\n",
            "75%      156.012500     0.000000\n",
            "max    18724.850000  6870.000000\n",
            "ID             object\n",
            "date           object\n",
            "Item Id        object\n",
            "Item Name      object\n",
            "ad_spend      float64\n",
            "anarix_id      object\n",
            "unit_price    float64\n",
            "dtype: object\n"
          ]
        }
      ]
    },
    {
      "cell_type": "code",
      "source": [
        "import pandas as pd\n",
        "\n",
        "chunk_size = 10000  # Adjust the chunk size as needed\n",
        "chunks = pd.read_csv('/content/forecasting-unit-sales-vit-task-2/train.csv', chunksize=chunk_size)\n",
        "\n",
        "for chunk in chunks:\n",
        "    # Process each chunk here\n",
        "    print(chunk.head())\n",
        "\n",
        "\n",
        "\n",
        "# Display summary statistics of the dataset\n",
        "print(chunk.describe())\n",
        "\n",
        "# Display the data types of each column\n",
        "print(chunk.dtypes)\n"
      ],
      "metadata": {
        "id": "muO-PHFrWQSC",
        "outputId": "9609bc31-45aa-4b08-b928-f44c38df3c60",
        "colab": {
          "base_uri": "https://localhost:8080/",
          "height": 1000
        }
      },
      "id": "muO-PHFrWQSC",
      "execution_count": 24,
      "outputs": [
        {
          "output_type": "stream",
          "name": "stdout",
          "text": [
            "                      ID        date     Item Id  \\\n",
            "0  2022-04-12_B09KDTS4DC  2022-04-12  B09KDTS4DC   \n",
            "1  2022-04-12_B09MR2MLZH  2022-04-12  B09MR2MLZH   \n",
            "2  2022-04-12_B09KSYL73R  2022-04-12  B09KSYL73R   \n",
            "3  2022-04-12_B09KT5HMNY  2022-04-12  B09KT5HMNY   \n",
            "4  2022-04-12_B09KTF8ZDQ  2022-04-12  B09KTF8ZDQ   \n",
            "\n",
            "                                           Item Name  ad_spend anarix_id  \\\n",
            "0  NapQueen Elizabeth 8\" Gel Memory Foam Mattress...       NaN  NAPQUEEN   \n",
            "1  NapQueen 12 Inch Bamboo Charcoal Queen Size Me...       NaN  NAPQUEEN   \n",
            "2     NapQueen Elsa 8\" Innerspring Mattress, Twin XL       NaN  NAPQUEEN   \n",
            "3        NapQueen Elsa 6\" Innerspring Mattress, Twin       NaN  NAPQUEEN   \n",
            "4     NapQueen Elsa 6\" Innerspring Mattress, Twin XL       NaN  NAPQUEEN   \n",
            "\n",
            "   units  unit_price  \n",
            "0    0.0         0.0  \n",
            "1    0.0         0.0  \n",
            "2    0.0         0.0  \n",
            "3    0.0         0.0  \n",
            "4    0.0         0.0  \n",
            "                          ID        date     Item Id  \\\n",
            "10000  2022-10-16_B0B69B8R3C  2022-10-16  B0B69B8R3C   \n",
            "10001  2022-10-16_B09X1GMWY6  2022-10-16  B09X1GMWY6   \n",
            "10002  2022-10-16_B09X1H629F  2022-10-16  B09X1H629F   \n",
            "10003  2022-10-16_B09X1J3WBF  2022-10-16  B09X1J3WBF   \n",
            "10004  2022-10-16_B09X1JTK49  2022-10-16  B09X1JTK49   \n",
            "\n",
            "                                               Item Name  ad_spend anarix_id  \\\n",
            "10000       NapQueen Victoria 10'' Hybrid Mattress, Twin   1752.31  NAPQUEEN   \n",
            "10001  NapQueen Elizabeth 14\" Gel Memory Foam Mattres...       NaN  NAPQUEEN   \n",
            "10002  NapQueen Elizabeth 14\" Gel Memory Foam Mattres...       NaN  NAPQUEEN   \n",
            "10003  NapQueen Elizabeth 14\" Gel Memory Foam Mattres...       NaN  NAPQUEEN   \n",
            "10004  NapQueen Elizabeth 6\" Gel Memory Foam Mattress...       NaN  NAPQUEEN   \n",
            "\n",
            "       units  unit_price  \n",
            "10000    9.0   55.503333  \n",
            "10001    0.0    0.000000  \n",
            "10002    0.0    0.000000  \n",
            "10003   -1.0    0.000000  \n",
            "10004    0.0    0.000000  \n",
            "                          ID        date     Item Id  \\\n",
            "20000  2023-01-27_B0BNL4WZQV  2023-01-27  B0BNL4WZQV   \n",
            "20001  2023-01-27_B0BNL4Y2J9  2023-01-27  B0BNL4Y2J9   \n",
            "20002  2023-01-27_B0BRCXCXCV  2023-01-27  B0BRCXCXCV   \n",
            "20003  2023-01-27_B0BNL4S7GH  2023-01-27  B0BNL4S7GH   \n",
            "20004  2023-01-27_B0BRCXJ1F6  2023-01-27  B0BRCXJ1F6   \n",
            "\n",
            "                                               Item Name  ad_spend anarix_id  \\\n",
            "20000  NapQueen 1.5 Inch Ventilated Bamboo Charcoal M...       NaN  NAPQUEEN   \n",
            "20001  NapQueen 4 Inch Ventilated Bamboo Charcoal Mem...      1.05  NAPQUEEN   \n",
            "20002  NapQueen Anula, Queen 10'' Green Tea Memory Fo...      0.00  NAPQUEEN   \n",
            "20003  NapQueen 2 Inch Ventilated Bamboo Charcoal Mem...      2.84  NAPQUEEN   \n",
            "20004                 NapQueen Anula Green Tea 6'', King      0.00  NAPQUEEN   \n",
            "\n",
            "       units  unit_price  \n",
            "20000    0.0         0.0  \n",
            "20001    0.0         0.0  \n",
            "20002    0.0         0.0  \n",
            "20003    2.0         0.0  \n",
            "20004    0.0         0.0  \n"
          ]
        },
        {
          "output_type": "error",
          "ename": "ParserError",
          "evalue": "Error tokenizing data. C error: EOF inside string starting at row 32941",
          "traceback": [
            "\u001b[0;31m---------------------------------------------------------------------------\u001b[0m",
            "\u001b[0;31mParserError\u001b[0m                               Traceback (most recent call last)",
            "\u001b[0;32m<ipython-input-24-6186f4ba7a39>\u001b[0m in \u001b[0;36m<cell line: 6>\u001b[0;34m()\u001b[0m\n\u001b[1;32m      4\u001b[0m \u001b[0mchunks\u001b[0m \u001b[0;34m=\u001b[0m \u001b[0mpd\u001b[0m\u001b[0;34m.\u001b[0m\u001b[0mread_csv\u001b[0m\u001b[0;34m(\u001b[0m\u001b[0;34m'/content/forecasting-unit-sales-vit-task-2/train.csv'\u001b[0m\u001b[0;34m,\u001b[0m \u001b[0mchunksize\u001b[0m\u001b[0;34m=\u001b[0m\u001b[0mchunk_size\u001b[0m\u001b[0;34m)\u001b[0m\u001b[0;34m\u001b[0m\u001b[0;34m\u001b[0m\u001b[0m\n\u001b[1;32m      5\u001b[0m \u001b[0;34m\u001b[0m\u001b[0m\n\u001b[0;32m----> 6\u001b[0;31m \u001b[0;32mfor\u001b[0m \u001b[0mchunk\u001b[0m \u001b[0;32min\u001b[0m \u001b[0mchunks\u001b[0m\u001b[0;34m:\u001b[0m\u001b[0;34m\u001b[0m\u001b[0;34m\u001b[0m\u001b[0m\n\u001b[0m\u001b[1;32m      7\u001b[0m     \u001b[0;31m# Process each chunk here\u001b[0m\u001b[0;34m\u001b[0m\u001b[0;34m\u001b[0m\u001b[0m\n\u001b[1;32m      8\u001b[0m     \u001b[0mprint\u001b[0m\u001b[0;34m(\u001b[0m\u001b[0mchunk\u001b[0m\u001b[0;34m.\u001b[0m\u001b[0mhead\u001b[0m\u001b[0;34m(\u001b[0m\u001b[0;34m)\u001b[0m\u001b[0;34m)\u001b[0m\u001b[0;34m\u001b[0m\u001b[0;34m\u001b[0m\u001b[0m\n",
            "\u001b[0;32m/usr/local/lib/python3.10/dist-packages/pandas/io/parsers/readers.py\u001b[0m in \u001b[0;36m__next__\u001b[0;34m(self)\u001b[0m\n\u001b[1;32m   1666\u001b[0m     \u001b[0;32mdef\u001b[0m \u001b[0m__next__\u001b[0m\u001b[0;34m(\u001b[0m\u001b[0mself\u001b[0m\u001b[0;34m)\u001b[0m \u001b[0;34m->\u001b[0m \u001b[0mDataFrame\u001b[0m\u001b[0;34m:\u001b[0m\u001b[0;34m\u001b[0m\u001b[0;34m\u001b[0m\u001b[0m\n\u001b[1;32m   1667\u001b[0m         \u001b[0;32mtry\u001b[0m\u001b[0;34m:\u001b[0m\u001b[0;34m\u001b[0m\u001b[0;34m\u001b[0m\u001b[0m\n\u001b[0;32m-> 1668\u001b[0;31m             \u001b[0;32mreturn\u001b[0m \u001b[0mself\u001b[0m\u001b[0;34m.\u001b[0m\u001b[0mget_chunk\u001b[0m\u001b[0;34m(\u001b[0m\u001b[0;34m)\u001b[0m\u001b[0;34m\u001b[0m\u001b[0;34m\u001b[0m\u001b[0m\n\u001b[0m\u001b[1;32m   1669\u001b[0m         \u001b[0;32mexcept\u001b[0m \u001b[0mStopIteration\u001b[0m\u001b[0;34m:\u001b[0m\u001b[0;34m\u001b[0m\u001b[0;34m\u001b[0m\u001b[0m\n\u001b[1;32m   1670\u001b[0m             \u001b[0mself\u001b[0m\u001b[0;34m.\u001b[0m\u001b[0mclose\u001b[0m\u001b[0;34m(\u001b[0m\u001b[0;34m)\u001b[0m\u001b[0;34m\u001b[0m\u001b[0;34m\u001b[0m\u001b[0m\n",
            "\u001b[0;32m/usr/local/lib/python3.10/dist-packages/pandas/io/parsers/readers.py\u001b[0m in \u001b[0;36mget_chunk\u001b[0;34m(self, size)\u001b[0m\n\u001b[1;32m   1775\u001b[0m                 \u001b[0;32mraise\u001b[0m \u001b[0mStopIteration\u001b[0m\u001b[0;34m\u001b[0m\u001b[0;34m\u001b[0m\u001b[0m\n\u001b[1;32m   1776\u001b[0m             \u001b[0msize\u001b[0m \u001b[0;34m=\u001b[0m \u001b[0mmin\u001b[0m\u001b[0;34m(\u001b[0m\u001b[0msize\u001b[0m\u001b[0;34m,\u001b[0m \u001b[0mself\u001b[0m\u001b[0;34m.\u001b[0m\u001b[0mnrows\u001b[0m \u001b[0;34m-\u001b[0m \u001b[0mself\u001b[0m\u001b[0;34m.\u001b[0m\u001b[0m_currow\u001b[0m\u001b[0;34m)\u001b[0m\u001b[0;34m\u001b[0m\u001b[0;34m\u001b[0m\u001b[0m\n\u001b[0;32m-> 1777\u001b[0;31m         \u001b[0;32mreturn\u001b[0m \u001b[0mself\u001b[0m\u001b[0;34m.\u001b[0m\u001b[0mread\u001b[0m\u001b[0;34m(\u001b[0m\u001b[0mnrows\u001b[0m\u001b[0;34m=\u001b[0m\u001b[0msize\u001b[0m\u001b[0;34m)\u001b[0m\u001b[0;34m\u001b[0m\u001b[0;34m\u001b[0m\u001b[0m\n\u001b[0m\u001b[1;32m   1778\u001b[0m \u001b[0;34m\u001b[0m\u001b[0m\n\u001b[1;32m   1779\u001b[0m     \u001b[0;32mdef\u001b[0m \u001b[0m__enter__\u001b[0m\u001b[0;34m(\u001b[0m\u001b[0mself\u001b[0m\u001b[0;34m)\u001b[0m \u001b[0;34m->\u001b[0m \u001b[0mTextFileReader\u001b[0m\u001b[0;34m:\u001b[0m\u001b[0;34m\u001b[0m\u001b[0;34m\u001b[0m\u001b[0m\n",
            "\u001b[0;32m/usr/local/lib/python3.10/dist-packages/pandas/io/parsers/readers.py\u001b[0m in \u001b[0;36mread\u001b[0;34m(self, nrows)\u001b[0m\n\u001b[1;32m   1746\u001b[0m                     \u001b[0mcolumns\u001b[0m\u001b[0;34m,\u001b[0m\u001b[0;34m\u001b[0m\u001b[0;34m\u001b[0m\u001b[0m\n\u001b[1;32m   1747\u001b[0m                     \u001b[0mcol_dict\u001b[0m\u001b[0;34m,\u001b[0m\u001b[0;34m\u001b[0m\u001b[0;34m\u001b[0m\u001b[0m\n\u001b[0;32m-> 1748\u001b[0;31m                 \u001b[0;34m)\u001b[0m \u001b[0;34m=\u001b[0m \u001b[0mself\u001b[0m\u001b[0;34m.\u001b[0m\u001b[0m_engine\u001b[0m\u001b[0;34m.\u001b[0m\u001b[0mread\u001b[0m\u001b[0;34m(\u001b[0m  \u001b[0;31m# type: ignore[attr-defined]\u001b[0m\u001b[0;34m\u001b[0m\u001b[0;34m\u001b[0m\u001b[0m\n\u001b[0m\u001b[1;32m   1749\u001b[0m                     \u001b[0mnrows\u001b[0m\u001b[0;34m\u001b[0m\u001b[0;34m\u001b[0m\u001b[0m\n\u001b[1;32m   1750\u001b[0m                 )\n",
            "\u001b[0;32m/usr/local/lib/python3.10/dist-packages/pandas/io/parsers/c_parser_wrapper.py\u001b[0m in \u001b[0;36mread\u001b[0;34m(self, nrows)\u001b[0m\n\u001b[1;32m    232\u001b[0m         \u001b[0;32mtry\u001b[0m\u001b[0;34m:\u001b[0m\u001b[0;34m\u001b[0m\u001b[0;34m\u001b[0m\u001b[0m\n\u001b[1;32m    233\u001b[0m             \u001b[0;32mif\u001b[0m \u001b[0mself\u001b[0m\u001b[0;34m.\u001b[0m\u001b[0mlow_memory\u001b[0m\u001b[0;34m:\u001b[0m\u001b[0;34m\u001b[0m\u001b[0;34m\u001b[0m\u001b[0m\n\u001b[0;32m--> 234\u001b[0;31m                 \u001b[0mchunks\u001b[0m \u001b[0;34m=\u001b[0m \u001b[0mself\u001b[0m\u001b[0;34m.\u001b[0m\u001b[0m_reader\u001b[0m\u001b[0;34m.\u001b[0m\u001b[0mread_low_memory\u001b[0m\u001b[0;34m(\u001b[0m\u001b[0mnrows\u001b[0m\u001b[0;34m)\u001b[0m\u001b[0;34m\u001b[0m\u001b[0;34m\u001b[0m\u001b[0m\n\u001b[0m\u001b[1;32m    235\u001b[0m                 \u001b[0;31m# destructive to chunks\u001b[0m\u001b[0;34m\u001b[0m\u001b[0;34m\u001b[0m\u001b[0m\n\u001b[1;32m    236\u001b[0m                 \u001b[0mdata\u001b[0m \u001b[0;34m=\u001b[0m \u001b[0m_concatenate_chunks\u001b[0m\u001b[0;34m(\u001b[0m\u001b[0mchunks\u001b[0m\u001b[0;34m)\u001b[0m\u001b[0;34m\u001b[0m\u001b[0;34m\u001b[0m\u001b[0m\n",
            "\u001b[0;32mparsers.pyx\u001b[0m in \u001b[0;36mpandas._libs.parsers.TextReader.read_low_memory\u001b[0;34m()\u001b[0m\n",
            "\u001b[0;32mparsers.pyx\u001b[0m in \u001b[0;36mpandas._libs.parsers.TextReader._read_rows\u001b[0;34m()\u001b[0m\n",
            "\u001b[0;32mparsers.pyx\u001b[0m in \u001b[0;36mpandas._libs.parsers.TextReader._tokenize_rows\u001b[0;34m()\u001b[0m\n",
            "\u001b[0;32mparsers.pyx\u001b[0m in \u001b[0;36mpandas._libs.parsers.TextReader._check_tokenize_status\u001b[0;34m()\u001b[0m\n",
            "\u001b[0;32mparsers.pyx\u001b[0m in \u001b[0;36mpandas._libs.parsers.raise_parser_error\u001b[0;34m()\u001b[0m\n",
            "\u001b[0;31mParserError\u001b[0m: Error tokenizing data. C error: EOF inside string starting at row 32941"
          ]
        }
      ]
    },
    {
      "cell_type": "code",
      "source": [
        "# Convert the 'date' column to datetime format\n",
        "chunk['date'] = pd.to_datetime(chunk['date'])\n",
        "\n",
        "# Set the 'date' column as the index\n",
        "chunk.set_index('date', inplace=True)\n",
        "\n",
        "# Plot the number of units sold over time\n",
        "plt.figure(figsize=(14, 7))\n",
        "plt.plot(chunk['units'])\n",
        "plt.title('Units Sold Over Time')\n",
        "plt.xlabel('Date')\n",
        "plt.ylabel('Units Sold')\n",
        "plt.show()\n"
      ],
      "metadata": {
        "id": "CJCVaaoLWQUD",
        "outputId": "36876c65-2f96-4995-9bc1-a6ba8da83112",
        "colab": {
          "base_uri": "https://localhost:8080/",
          "height": 616
        }
      },
      "id": "CJCVaaoLWQUD",
      "execution_count": 28,
      "outputs": [
        {
          "output_type": "display_data",
          "data": {
            "text/plain": [
              "<Figure size 1400x700 with 1 Axes>"
            ],
            "image/png": "[encoded data removed]"
          },
          "metadata": {}
        }
      ]
    },
    {
      "cell_type": "code",
      "source": [
        "# Create additional time-based features\n",
        "data['year'] = data.index.year\n",
        "data['month'] = data.index.month\n",
        "data['day'] = data.index.day\n",
        "data['weekday'] = data.index.weekday\n",
        "\n",
        "# Display the first few rows of the dataset with new features\n",
        "print(data.head())\n"
      ],
      "metadata": {
        "id": "vmMXesI4WQWu",
        "outputId": "962df32d-aa37-48e8-a2d9-a48cdb0de0c5",
        "colab": {
          "base_uri": "https://localhost:8080/"
        }
      },
      "id": "vmMXesI4WQWu",
      "execution_count": 29,
      "outputs": [
        {
          "output_type": "stream",
          "name": "stdout",
          "text": [
            "                               ID     Item Id  \\\n",
            "date                                            \n",
            "2024-07-01  2024-07-01_B09KDR64LT  B09KDR64LT   \n",
            "2024-07-01  2024-07-01_B09KDTS4DC  B09KDTS4DC   \n",
            "2024-07-01  2024-07-01_B09KDTHJ6V  B09KDTHJ6V   \n",
            "2024-07-01  2024-07-01_B09KDQ2BWY  B09KDQ2BWY   \n",
            "2024-07-01  2024-07-01_B09KDYY3SB  B09KDYY3SB   \n",
            "\n",
            "                                                    Item Name  ad_spend  \\\n",
            "date                                                                      \n",
            "2024-07-01  NapQueen Elizabeth 10\" Gel Memory Foam Mattres...       NaN   \n",
            "2024-07-01  NapQueen Elizabeth 8\" Gel Memory Foam Mattress...       NaN   \n",
            "2024-07-01  NapQueen Elizabeth 12\" Gel Memory Foam Mattres...       NaN   \n",
            "2024-07-01  NapQueen Elizabeth 12\" Gel Memory Foam Mattres...       NaN   \n",
            "2024-07-01  NapQueen Elizabeth 10\" Gel Memory Foam Mattres...    101.72   \n",
            "\n",
            "           anarix_id  unit_price  year  month  day  weekday  \n",
            "date                                                         \n",
            "2024-07-01  NAPQUEEN         0.0  2024      7    1        0  \n",
            "2024-07-01  NAPQUEEN         0.0  2024      7    1        0  \n",
            "2024-07-01  NAPQUEEN         0.0  2024      7    1        0  \n",
            "2024-07-01  NAPQUEEN         0.0  2024      7    1        0  \n",
            "2024-07-01  NAPQUEEN      1094.5  2024      7    1        0  \n"
          ]
        }
      ]
    },
    {
      "cell_type": "code",
      "source": [
        "# Split the data into training and testing sets\n",
        "train_data, test_data = train_test_split(data, test_size=0.2, shuffle=False)\n",
        "\n",
        "# Display the shapes of the training and testing sets\n",
        "print(train_data.shape, test_data.shape)\n"
      ],
      "metadata": {
        "id": "34Vi5VDDWQZM",
        "outputId": "495644f2-91b9-4fca-f9de-b9cd1b18038b",
        "colab": {
          "base_uri": "https://localhost:8080/"
        }
      },
      "id": "34Vi5VDDWQZM",
      "execution_count": 30,
      "outputs": [
        {
          "output_type": "stream",
          "name": "stdout",
          "text": [
            "(2266, 10) (567, 10)\n"
          ]
        }
      ]
    },
    {
      "cell_type": "code",
      "source": [
        "# Initialize the model\n",
        "model = ExponentialSmoothing(chunk['units'], trend='add', seasonal='add', seasonal_periods=12)\n",
        "\n",
        "# Fit the model\n",
        "fitted_model = model.fit()\n",
        "\n",
        "# Make predictions\n",
        "predictions = fitted_model.forecast(len(test_data))\n",
        "\n",
        "# Display the predictions\n",
        "print(predictions.head())\n"
      ],
      "metadata": {
        "id": "qE48I_IVWQa4",
        "outputId": "bedd6936-b1ff-4f9b-8732-eca0a0e71b43",
        "colab": {
          "base_uri": "https://localhost:8080/"
        }
      },
      "id": "qE48I_IVWQa4",
      "execution_count": 32,
      "outputs": [
        {
          "output_type": "stream",
          "name": "stdout",
          "text": [
            "10000   NaN\n",
            "10001   NaN\n",
            "10002   NaN\n",
            "10003   NaN\n",
            "10004   NaN\n",
            "dtype: float64\n"
          ]
        }
      ]
    },
    {
      "cell_type": "code",
      "source": [
        "print(test_data.columns)\n"
      ],
      "metadata": {
        "id": "R-bpWqufWQep",
        "outputId": "f285c946-7d51-41e2-b186-0b62b234bbbe",
        "colab": {
          "base_uri": "https://localhost:8080/"
        }
      },
      "id": "R-bpWqufWQep",
      "execution_count": 42,
      "outputs": [
        {
          "output_type": "stream",
          "name": "stdout",
          "text": [
            "Index(['ID', 'Item Id', 'Item Name', 'ad_spend', 'anarix_id', 'unit_price',\n",
            "       'year', 'month', 'day', 'weekday'],\n",
            "      dtype='object')\n"
          ]
        }
      ]
    },
    {
      "cell_type": "code",
      "source": [
        "print(test_data.head())\n"
      ],
      "metadata": {
        "id": "DArrC4A8aa9A",
        "outputId": "f5e309e5-44cf-4647-8849-0bcac9dfd8c0",
        "colab": {
          "base_uri": "https://localhost:8080/"
        }
      },
      "id": "DArrC4A8aa9A",
      "execution_count": 54,
      "outputs": [
        {
          "output_type": "stream",
          "name": "stdout",
          "text": [
            "                               ID     Item Id  \\\n",
            "date                                            \n",
            "2024-07-22  2024-07-22_B09KDTS4DC  B09KDTS4DC   \n",
            "2024-07-22  2024-07-22_B09KDW1YKQ  B09KDW1YKQ   \n",
            "2024-07-22  2024-07-22_B09KSYL73R  B09KSYL73R   \n",
            "2024-07-22  2024-07-22_B09MR2MLZH  B09MR2MLZH   \n",
            "2024-07-22  2024-07-22_B09KDZQJ6P  B09KDZQJ6P   \n",
            "\n",
            "                                                    Item Name  ad_spend  \\\n",
            "date                                                                      \n",
            "2024-07-22  NapQueen Elizabeth 8\" Gel Memory Foam Mattress...       NaN   \n",
            "2024-07-22  NapQueen Elizabeth 8\" Gel Memory Foam Mattress...       NaN   \n",
            "2024-07-22     NapQueen Elsa 8\" Innerspring Mattress, Twin XL    339.38   \n",
            "2024-07-22  NapQueen 12 Inch Bamboo Charcoal Queen Size Me...       NaN   \n",
            "2024-07-22  NapQueen Elizabeth 8\" Gel Memory Foam Mattress...     11.93   \n",
            "\n",
            "           anarix_id  unit_price  year  month  day  weekday  \n",
            "date                                                         \n",
            "2024-07-22  NAPQUEEN    0.000000  2024      7   22        0  \n",
            "2024-07-22  NAPQUEEN    0.000000  2024      7   22        0  \n",
            "2024-07-22  NAPQUEEN  178.044444  2024      7   22        0  \n",
            "2024-07-22  NAPQUEEN    0.000000  2024      7   22        0  \n",
            "2024-07-22  NAPQUEEN    0.000000  2024      7   22        0  \n"
          ]
        }
      ]
    },
    {
      "cell_type": "code",
      "source": [
        "from sklearn.metrics import mean_squared_error\n",
        "\n",
        "# Print column names to verify the correct name\n",
        "print(\"Columns in test_data:\", test_data.columns)\n",
        "\n",
        "# Inspect the first few rows to understand the data\n",
        "print(\"First few rows of test_data:\")\n",
        "print(test_data.head())\n",
        "\n",
        "# Check for any leading/trailing spaces in column names\n",
        "test_data.columns = test_data.columns.str.strip()\n",
        "\n",
        "# Use the correct column name based on the output\n",
        "column_name = 'units'  # Update this if necessary\n",
        "\n",
        "# Verify that the column exists after stripping spaces\n",
        "if column_name in test_data.columns:\n",
        "    # Check lengths of actual and predicted values\n",
        "    actual_length = len(test_data[column_name])\n",
        "    predicted_length = len(predictions)\n",
        "\n",
        "    print(f'Length of actual values: {actual_length}')\n",
        "    print(f'Length of predicted values: {predicted_length}')\n",
        "\n",
        "    # Ensure lengths are the same\n",
        "    if actual_length == predicted_length:\n",
        "        mse = mean_squared_error(test_data[column_name], predictions)\n",
        "        print(f'Mean Squared Error: {mse}')\n",
        "    else:\n",
        "        print(\"Error: The length of actual values and predictions do not match.\")\n",
        "else:\n",
        "    print(f\"Error: Column '{column_name}' does not exist in the DataFrame.\")\n",
        "\n"
      ],
      "metadata": {
        "id": "iz6bwWv1dKOS",
        "outputId": "e493f4d2-a092-47e5-dbc9-f4598ac5a7ae",
        "colab": {
          "base_uri": "https://localhost:8080/"
        }
      },
      "id": "iz6bwWv1dKOS",
      "execution_count": 57,
      "outputs": [
        {
          "output_type": "stream",
          "name": "stdout",
          "text": [
            "Columns in test_data: Index(['ID', 'Item Id', 'Item Name', 'ad_spend', 'anarix_id', 'unit_price',\n",
            "       'year', 'month', 'day', 'weekday'],\n",
            "      dtype='object')\n",
            "First few rows of test_data:\n",
            "                               ID     Item Id  \\\n",
            "date                                            \n",
            "2024-07-22  2024-07-22_B09KDTS4DC  B09KDTS4DC   \n",
            "2024-07-22  2024-07-22_B09KDW1YKQ  B09KDW1YKQ   \n",
            "2024-07-22  2024-07-22_B09KSYL73R  B09KSYL73R   \n",
            "2024-07-22  2024-07-22_B09MR2MLZH  B09MR2MLZH   \n",
            "2024-07-22  2024-07-22_B09KDZQJ6P  B09KDZQJ6P   \n",
            "\n",
            "                                                    Item Name  ad_spend  \\\n",
            "date                                                                      \n",
            "2024-07-22  NapQueen Elizabeth 8\" Gel Memory Foam Mattress...       NaN   \n",
            "2024-07-22  NapQueen Elizabeth 8\" Gel Memory Foam Mattress...       NaN   \n",
            "2024-07-22     NapQueen Elsa 8\" Innerspring Mattress, Twin XL    339.38   \n",
            "2024-07-22  NapQueen 12 Inch Bamboo Charcoal Queen Size Me...       NaN   \n",
            "2024-07-22  NapQueen Elizabeth 8\" Gel Memory Foam Mattress...     11.93   \n",
            "\n",
            "           anarix_id  unit_price  year  month  day  weekday  \n",
            "date                                                         \n",
            "2024-07-22  NAPQUEEN    0.000000  2024      7   22        0  \n",
            "2024-07-22  NAPQUEEN    0.000000  2024      7   22        0  \n",
            "2024-07-22  NAPQUEEN  178.044444  2024      7   22        0  \n",
            "2024-07-22  NAPQUEEN    0.000000  2024      7   22        0  \n",
            "2024-07-22  NAPQUEEN    0.000000  2024      7   22        0  \n",
            "Error: Column 'units' does not exist in the DataFrame.\n"
          ]
        }
      ]
    },
    {
      "cell_type": "code",
      "source": [
        "print(\"Columns in chunk:\", chunk.columns)\n",
        "print(\"Columns in test_data:\", test_data.columns)\n"
      ],
      "metadata": {
        "id": "CYF5rgJodsRD",
        "outputId": "ea366e92-5916-4174-8b0f-99ec27aa3575",
        "colab": {
          "base_uri": "https://localhost:8080/"
        }
      },
      "id": "CYF5rgJodsRD",
      "execution_count": 62,
      "outputs": [
        {
          "output_type": "stream",
          "name": "stdout",
          "text": [
            "Columns in chunk: Index(['ID', 'Item Id', 'Item Name', 'ad_spend', 'anarix_id', 'units',\n",
            "       'unit_price'],\n",
            "      dtype='object')\n",
            "Columns in test_data: Index(['ID', 'Item Id', 'Item Name', 'ad_spend', 'anarix_id', 'unit_price',\n",
            "       'year', 'month', 'day', 'weekday'],\n",
            "      dtype='object')\n"
          ]
        }
      ]
    },
    {
      "cell_type": "code",
      "source": [
        "print(\"First few rows of chunk:\")\n",
        "print(chunk.head())\n",
        "\n",
        "print(\"First few rows of test_data:\")\n",
        "print(test_data.head())\n"
      ],
      "metadata": {
        "id": "ba1vzd2meTQu",
        "outputId": "5a2ec598-e5e9-4c96-e17f-0c6e83b5e266",
        "colab": {
          "base_uri": "https://localhost:8080/"
        }
      },
      "id": "ba1vzd2meTQu",
      "execution_count": 63,
      "outputs": [
        {
          "output_type": "stream",
          "name": "stdout",
          "text": [
            "First few rows of chunk:\n",
            "                               ID     Item Id  \\\n",
            "date                                            \n",
            "2023-01-27  2023-01-27_B0BNL4WZQV  B0BNL4WZQV   \n",
            "2023-01-27  2023-01-27_B0BNL4Y2J9  B0BNL4Y2J9   \n",
            "2023-01-27  2023-01-27_B0BRCXCXCV  B0BRCXCXCV   \n",
            "2023-01-27  2023-01-27_B0BNL4S7GH  B0BNL4S7GH   \n",
            "2023-01-27  2023-01-27_B0BRCXJ1F6  B0BRCXJ1F6   \n",
            "\n",
            "                                                    Item Name  ad_spend  \\\n",
            "date                                                                      \n",
            "2023-01-27  NapQueen 1.5 Inch Ventilated Bamboo Charcoal M...       NaN   \n",
            "2023-01-27  NapQueen 4 Inch Ventilated Bamboo Charcoal Mem...      1.05   \n",
            "2023-01-27  NapQueen Anula, Queen 10'' Green Tea Memory Fo...      0.00   \n",
            "2023-01-27  NapQueen 2 Inch Ventilated Bamboo Charcoal Mem...      2.84   \n",
            "2023-01-27                 NapQueen Anula Green Tea 6'', King      0.00   \n",
            "\n",
            "           anarix_id  units  unit_price  \n",
            "date                                     \n",
            "2023-01-27  NAPQUEEN    0.0         0.0  \n",
            "2023-01-27  NAPQUEEN    0.0         0.0  \n",
            "2023-01-27  NAPQUEEN    0.0         0.0  \n",
            "2023-01-27  NAPQUEEN    2.0         0.0  \n",
            "2023-01-27  NAPQUEEN    0.0         0.0  \n",
            "First few rows of test_data:\n",
            "                               ID     Item Id  \\\n",
            "date                                            \n",
            "2024-07-22  2024-07-22_B09KDTS4DC  B09KDTS4DC   \n",
            "2024-07-22  2024-07-22_B09KDW1YKQ  B09KDW1YKQ   \n",
            "2024-07-22  2024-07-22_B09KSYL73R  B09KSYL73R   \n",
            "2024-07-22  2024-07-22_B09MR2MLZH  B09MR2MLZH   \n",
            "2024-07-22  2024-07-22_B09KDZQJ6P  B09KDZQJ6P   \n",
            "\n",
            "                                                    Item Name  ad_spend  \\\n",
            "date                                                                      \n",
            "2024-07-22  NapQueen Elizabeth 8\" Gel Memory Foam Mattress...       NaN   \n",
            "2024-07-22  NapQueen Elizabeth 8\" Gel Memory Foam Mattress...       NaN   \n",
            "2024-07-22     NapQueen Elsa 8\" Innerspring Mattress, Twin XL    339.38   \n",
            "2024-07-22  NapQueen 12 Inch Bamboo Charcoal Queen Size Me...       NaN   \n",
            "2024-07-22  NapQueen Elizabeth 8\" Gel Memory Foam Mattress...     11.93   \n",
            "\n",
            "           anarix_id  unit_price  year  month  day  weekday  \n",
            "date                                                         \n",
            "2024-07-22  NAPQUEEN    0.000000  2024      7   22        0  \n",
            "2024-07-22  NAPQUEEN    0.000000  2024      7   22        0  \n",
            "2024-07-22  NAPQUEEN  178.044444  2024      7   22        0  \n",
            "2024-07-22  NAPQUEEN    0.000000  2024      7   22        0  \n",
            "2024-07-22  NAPQUEEN    0.000000  2024      7   22        0  \n"
          ]
        }
      ]
    },
    {
      "cell_type": "code",
      "source": [
        "import matplotlib.pyplot as plt\n",
        "\n",
        "# Print column names and sample data\n",
        "print(\"Columns in chunk:\", chunk.columns)\n",
        "print(\"Columns in test_data:\", test_data.columns)\n",
        "print(\"First few rows of chunk:\")\n",
        "print(chunk.head())\n",
        "print(\"First few rows of test_data:\")\n",
        "print(test_data.head())\n",
        "\n",
        "# Ensure column name is correct\n",
        "column_name = 'Unit_Sales'  # Update if necessary\n",
        "\n",
        "# Check lengths and indices\n",
        "print(\"Length of test_data:\", len(test_data))\n",
        "print(\"Length of predictions:\", len(predictions))\n",
        "print(\"Index of chunk:\", chunk.index)\n",
        "print(\"Index of test_data:\", test_data.index)\n",
        "\n",
        "# Plotting the data\n",
        "plt.figure(figsize=(14, 7))\n",
        "\n",
        "# Plotting the 'Train' data\n",
        "if column_name in chunk.columns:\n",
        "    plt.plot(chunk.index, chunk[column_name], label='Train')\n",
        "else:\n",
        "    print(f\"Error: Column '{column_name}' does not exist in 'chunk'.\")\n",
        "\n",
        "# Plotting the 'Test' data\n",
        "if column_name in test_data.columns:\n",
        "    plt.plot(test_data.index, test_data[column_name], label='Test')\n",
        "else:\n",
        "    print(f\"Error: Column '{column_name}' does not exist in 'test_data'.\")\n",
        "\n",
        "# Plotting the 'Predicted' data\n",
        "# Ensure predictions are the correct length\n",
        "if len(test_data) == len(predictions):\n",
        "    plt.plot(test_data.index, predictions, label='Predicted')\n",
        "else:\n",
        "    print(\"Error: Length of 'predictions' does not match length of 'test_data'.\")\n",
        "\n",
        "plt.title('Actual vs Predicted Units Sold')\n",
        "plt.xlabel('Date')\n",
        "plt.ylabel('Units Sold')\n",
        "plt.legend()\n",
        "plt.show()\n",
        "\n"
      ],
      "metadata": {
        "id": "KyWs3IGXfGBM",
        "outputId": "f01f885b-4a4a-451f-9273-4ff370af5e70",
        "colab": {
          "base_uri": "https://localhost:8080/",
          "height": 1000
        }
      },
      "id": "KyWs3IGXfGBM",
      "execution_count": 67,
      "outputs": [
        {
          "output_type": "stream",
          "name": "stdout",
          "text": [
            "Columns in chunk: Index(['ID', 'Item Id', 'Item Name', 'ad_spend', 'anarix_id', 'units',\n",
            "       'unit_price'],\n",
            "      dtype='object')\n",
            "Columns in test_data: Index(['ID', 'Item Id', 'Item Name', 'ad_spend', 'anarix_id', 'unit_price',\n",
            "       'year', 'month', 'day', 'weekday'],\n",
            "      dtype='object')\n",
            "First few rows of chunk:\n",
            "                               ID     Item Id  \\\n",
            "date                                            \n",
            "2023-01-27  2023-01-27_B0BNL4WZQV  B0BNL4WZQV   \n",
            "2023-01-27  2023-01-27_B0BNL4Y2J9  B0BNL4Y2J9   \n",
            "2023-01-27  2023-01-27_B0BRCXCXCV  B0BRCXCXCV   \n",
            "2023-01-27  2023-01-27_B0BNL4S7GH  B0BNL4S7GH   \n",
            "2023-01-27  2023-01-27_B0BRCXJ1F6  B0BRCXJ1F6   \n",
            "\n",
            "                                                    Item Name  ad_spend  \\\n",
            "date                                                                      \n",
            "2023-01-27  NapQueen 1.5 Inch Ventilated Bamboo Charcoal M...       NaN   \n",
            "2023-01-27  NapQueen 4 Inch Ventilated Bamboo Charcoal Mem...      1.05   \n",
            "2023-01-27  NapQueen Anula, Queen 10'' Green Tea Memory Fo...      0.00   \n",
            "2023-01-27  NapQueen 2 Inch Ventilated Bamboo Charcoal Mem...      2.84   \n",
            "2023-01-27                 NapQueen Anula Green Tea 6'', King      0.00   \n",
            "\n",
            "           anarix_id  units  unit_price  \n",
            "date                                     \n",
            "2023-01-27  NAPQUEEN    0.0         0.0  \n",
            "2023-01-27  NAPQUEEN    0.0         0.0  \n",
            "2023-01-27  NAPQUEEN    0.0         0.0  \n",
            "2023-01-27  NAPQUEEN    2.0         0.0  \n",
            "2023-01-27  NAPQUEEN    0.0         0.0  \n",
            "First few rows of test_data:\n",
            "                               ID     Item Id  \\\n",
            "date                                            \n",
            "2024-07-22  2024-07-22_B09KDTS4DC  B09KDTS4DC   \n",
            "2024-07-22  2024-07-22_B09KDW1YKQ  B09KDW1YKQ   \n",
            "2024-07-22  2024-07-22_B09KSYL73R  B09KSYL73R   \n",
            "2024-07-22  2024-07-22_B09MR2MLZH  B09MR2MLZH   \n",
            "2024-07-22  2024-07-22_B09KDZQJ6P  B09KDZQJ6P   \n",
            "\n",
            "                                                    Item Name  ad_spend  \\\n",
            "date                                                                      \n",
            "2024-07-22  NapQueen Elizabeth 8\" Gel Memory Foam Mattress...       NaN   \n",
            "2024-07-22  NapQueen Elizabeth 8\" Gel Memory Foam Mattress...       NaN   \n",
            "2024-07-22     NapQueen Elsa 8\" Innerspring Mattress, Twin XL    339.38   \n",
            "2024-07-22  NapQueen 12 Inch Bamboo Charcoal Queen Size Me...       NaN   \n",
            "2024-07-22  NapQueen Elizabeth 8\" Gel Memory Foam Mattress...     11.93   \n",
            "\n",
            "           anarix_id  unit_price  year  month  day  weekday  \n",
            "date                                                         \n",
            "2024-07-22  NAPQUEEN    0.000000  2024      7   22        0  \n",
            "2024-07-22  NAPQUEEN    0.000000  2024      7   22        0  \n",
            "2024-07-22  NAPQUEEN  178.044444  2024      7   22        0  \n",
            "2024-07-22  NAPQUEEN    0.000000  2024      7   22        0  \n",
            "2024-07-22  NAPQUEEN    0.000000  2024      7   22        0  \n",
            "Length of test_data: 567\n",
            "Length of predictions: 567\n",
            "Index of chunk: DatetimeIndex(['2023-01-27', '2023-01-27', '2023-01-27', '2023-01-27',\n",
            "               '2023-01-27', '2023-01-27', '2023-01-27', '2023-01-27',\n",
            "               '2023-01-27', '2023-01-27',\n",
            "               ...\n",
            "               '2023-03-23', '2023-03-23', '2023-03-23', '2023-03-23',\n",
            "               '2023-03-23', '2023-03-23', '2023-03-23', '2023-03-23',\n",
            "               '2023-03-23', '2023-03-23'],\n",
            "              dtype='datetime64[ns]', name='date', length=10000, freq=None)\n",
            "Index of test_data: DatetimeIndex(['2024-07-22', '2024-07-22', '2024-07-22', '2024-07-22',\n",
            "               '2024-07-22', '2024-07-22', '2024-07-22', '2024-07-22',\n",
            "               '2024-07-22', '2024-07-22',\n",
            "               ...\n",
            "               '2024-07-28', '2024-07-28', '2024-07-28', '2024-07-28',\n",
            "               '2024-07-28', '2024-07-28', '2024-07-28', '2024-07-28',\n",
            "               '2024-07-28', '2024-07-28'],\n",
            "              dtype='datetime64[ns]', name='date', length=567, freq=None)\n",
            "Error: Column 'Unit_Sales' does not exist in 'chunk'.\n",
            "Error: Column 'Unit_Sales' does not exist in 'test_data'.\n"
          ]
        },
        {
          "output_type": "display_data",
          "data": {
            "text/plain": [
              "<Figure size 1400x700 with 1 Axes>"
            ],
            "image/png": "[encoded data removed]"
          },
          "metadata": {}
        }
      ]
    },
    {
      "cell_type": "code",
      "source": [
        "import matplotlib.pyplot as plt\n",
        "\n",
        "# Print column names to verify the correct name\n",
        "print(\"Columns in test_data:\", test_data.columns)\n",
        "\n",
        "# Inspect the first few rows to understand the data\n",
        "print(\"First few rows of test_data:\")\n",
        "print(test_data.head())\n",
        "\n",
        "# Use the correct column name based on the output\n",
        "column_name = 'units'  # Update this to the actual column name\n",
        "\n",
        "# Plotting the data\n",
        "if column_name in test_data.columns:\n",
        "    plt.plot(test_data.index, test_data[column_name], label='Test')\n",
        "    plt.xlabel('Index')\n",
        "    plt.ylabel(column_name)\n",
        "    plt.title('Test Data')\n",
        "    plt.legend()\n",
        "    plt.show()\n",
        "else:\n",
        "    print(f\"Error: Column '{column_name}' does not exist in the DataFrame.\")\n"
      ],
      "metadata": {
        "id": "ZFXdBfDDiJUw",
        "outputId": "deb15f96-1414-48da-a2cc-0ff3533d132d",
        "colab": {
          "base_uri": "https://localhost:8080/"
        }
      },
      "id": "ZFXdBfDDiJUw",
      "execution_count": 73,
      "outputs": [
        {
          "output_type": "stream",
          "name": "stdout",
          "text": [
            "Columns in test_data: Index(['ID', 'Item Id', 'Item Name', 'ad_spend', 'anarix_id', 'unit_price',\n",
            "       'year', 'month', 'day', 'weekday'],\n",
            "      dtype='object')\n",
            "First few rows of test_data:\n",
            "                               ID     Item Id  \\\n",
            "date                                            \n",
            "2024-07-22  2024-07-22_B09KDTS4DC  B09KDTS4DC   \n",
            "2024-07-22  2024-07-22_B09KDW1YKQ  B09KDW1YKQ   \n",
            "2024-07-22  2024-07-22_B09KSYL73R  B09KSYL73R   \n",
            "2024-07-22  2024-07-22_B09MR2MLZH  B09MR2MLZH   \n",
            "2024-07-22  2024-07-22_B09KDZQJ6P  B09KDZQJ6P   \n",
            "\n",
            "                                                    Item Name  ad_spend  \\\n",
            "date                                                                      \n",
            "2024-07-22  NapQueen Elizabeth 8\" Gel Memory Foam Mattress...       NaN   \n",
            "2024-07-22  NapQueen Elizabeth 8\" Gel Memory Foam Mattress...       NaN   \n",
            "2024-07-22     NapQueen Elsa 8\" Innerspring Mattress, Twin XL    339.38   \n",
            "2024-07-22  NapQueen 12 Inch Bamboo Charcoal Queen Size Me...       NaN   \n",
            "2024-07-22  NapQueen Elizabeth 8\" Gel Memory Foam Mattress...     11.93   \n",
            "\n",
            "           anarix_id  unit_price  year  month  day  weekday  \n",
            "date                                                         \n",
            "2024-07-22  NAPQUEEN    0.000000  2024      7   22        0  \n",
            "2024-07-22  NAPQUEEN    0.000000  2024      7   22        0  \n",
            "2024-07-22  NAPQUEEN  178.044444  2024      7   22        0  \n",
            "2024-07-22  NAPQUEEN    0.000000  2024      7   22        0  \n",
            "2024-07-22  NAPQUEEN    0.000000  2024      7   22        0  \n",
            "Error: Column 'units' does not exist in the DataFrame.\n"
          ]
        }
      ]
    }
  ],
  "metadata": {
    "kernelspec": {
      "display_name": "Python 3",
      "name": "python3"
    },
    "language_info": {
      "name": "python"
    },
    "required_libs": [],
    "colab": {
      "provenance": [],
      "include_colab_link": true
    }
  },
  "nbformat": 4,
  "nbformat_minor": 5
}